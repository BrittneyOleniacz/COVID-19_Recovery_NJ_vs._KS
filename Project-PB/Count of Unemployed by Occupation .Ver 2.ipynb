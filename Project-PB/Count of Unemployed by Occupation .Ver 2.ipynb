{
 "cells": [
  {
   "cell_type": "code",
   "execution_count": 1,
   "metadata": {},
   "outputs": [],
   "source": [
    "# Dependencies\n",
    "import numpy as np\n",
    "import pandas as pd\n",
    "import matplotlib.pyplot as plt\n",
    "import requests\n",
    "import csv\n",
    "import os"
   ]
  },
  {
   "cell_type": "code",
   "execution_count": 2,
   "metadata": {},
   "outputs": [],
   "source": [
    "# Store filepath in a variable\n",
    "file_one = \"ManagementUnemployed.csv\"\n",
    "file_two = \"Construction and extraction occupationsUnemployed.csv\"\n",
    "file_three = \"Farming, fishing, and forestry occupationsUnemployed.csv\"\n",
    "file_four = \"Installation, maintenance, and repair occupationsUnemployed.csv\"\n",
    "file_five = \"Management, business, and financial operations occupationsUnemployed.csv\"\n",
    "file_six = \"Office and administrative support occupationsUnemployed.csv\"\n",
    "file_seven = \"Production occupationsUnemployed.csv\"\n",
    "file_eight = \"Professional and related occupationsUnemployed.csv\"\n",
    "file_nine = \"Sales and related occupationsUnemployed.csv\"\n",
    "file_ten = \"Transportation and material moving occupationsUnemployed.csv\""
   ]
  },
  {
   "cell_type": "code",
   "execution_count": 3,
   "metadata": {},
   "outputs": [],
   "source": [
    "# Read the mouse data and the study results\n",
    "mgmt_unemployed = pd.read_csv(file_one)\n",
    "cons_unemployed = pd.read_csv(file_two)\n",
    "farm_unemployed = pd.read_csv(file_three)\n",
    "inst_unemployed = pd.read_csv(file_four)\n",
    "fina_unemployed = pd.read_csv(file_five)\n",
    "offi_unemployed = pd.read_csv(file_six)\n",
    "prod_unemployed = pd.read_csv(file_seven)\n",
    "prof_unemployed = pd.read_csv(file_eight)\n",
    "sale_unemployed = pd.read_csv(file_nine)\n",
    "tran_unemployed = pd.read_csv(file_ten)"
   ]
  },
  {
   "cell_type": "code",
   "execution_count": 4,
   "metadata": {},
   "outputs": [
    {
     "data": {
      "text/html": [
       "<div>\n",
       "<style scoped>\n",
       "    .dataframe tbody tr th:only-of-type {\n",
       "        vertical-align: middle;\n",
       "    }\n",
       "\n",
       "    .dataframe tbody tr th {\n",
       "        vertical-align: top;\n",
       "    }\n",
       "\n",
       "    .dataframe thead th {\n",
       "        text-align: right;\n",
       "    }\n",
       "</style>\n",
       "<table border=\"1\" class=\"dataframe\">\n",
       "  <thead>\n",
       "    <tr style=\"text-align: right;\">\n",
       "      <th></th>\n",
       "      <th>Labor Force Statistics from the Current Population Survey</th>\n",
       "      <th>Occupation</th>\n",
       "      <th>Unnamed: 1</th>\n",
       "      <th>Unnamed: 2</th>\n",
       "      <th>Unnamed: 3</th>\n",
       "      <th>Unnamed: 4</th>\n",
       "      <th>Unnamed: 5</th>\n",
       "      <th>Unnamed: 6</th>\n",
       "      <th>Unnamed: 7</th>\n",
       "      <th>Unnamed: 8</th>\n",
       "      <th>Unnamed: 9</th>\n",
       "      <th>Unnamed: 10</th>\n",
       "      <th>Unnamed: 11</th>\n",
       "      <th>Unnamed: 12</th>\n",
       "    </tr>\n",
       "  </thead>\n",
       "  <tbody>\n",
       "    <tr>\n",
       "      <th>12</th>\n",
       "      <td>Year</td>\n",
       "      <td>Management</td>\n",
       "      <td>Jan</td>\n",
       "      <td>Feb</td>\n",
       "      <td>Mar</td>\n",
       "      <td>Apr</td>\n",
       "      <td>May</td>\n",
       "      <td>Jun</td>\n",
       "      <td>Jul</td>\n",
       "      <td>Aug</td>\n",
       "      <td>Sep</td>\n",
       "      <td>Oct</td>\n",
       "      <td>Nov</td>\n",
       "      <td>Dec</td>\n",
       "    </tr>\n",
       "    <tr>\n",
       "      <th>13</th>\n",
       "      <td>2019</td>\n",
       "      <td>Management</td>\n",
       "      <td>1607</td>\n",
       "      <td>1317</td>\n",
       "      <td>1289</td>\n",
       "      <td>1040</td>\n",
       "      <td>1086</td>\n",
       "      <td>1540</td>\n",
       "      <td>1591</td>\n",
       "      <td>1476</td>\n",
       "      <td>1235</td>\n",
       "      <td>1161</td>\n",
       "      <td>1208</td>\n",
       "      <td>1171</td>\n",
       "    </tr>\n",
       "    <tr>\n",
       "      <th>14</th>\n",
       "      <td>2020</td>\n",
       "      <td>Management</td>\n",
       "      <td>1454</td>\n",
       "      <td>1207</td>\n",
       "      <td>1663</td>\n",
       "      <td>5079</td>\n",
       "      <td>4432</td>\n",
       "      <td>4390</td>\n",
       "      <td>4400</td>\n",
       "      <td>NaN</td>\n",
       "      <td>NaN</td>\n",
       "      <td>NaN</td>\n",
       "      <td>NaN</td>\n",
       "      <td>NaN</td>\n",
       "    </tr>\n",
       "  </tbody>\n",
       "</table>\n",
       "</div>"
      ],
      "text/plain": [
       "   Labor Force Statistics from the Current Population Survey  Occupation  \\\n",
       "12                                               Year         Management   \n",
       "13                                               2019         Management   \n",
       "14                                               2020         Management   \n",
       "\n",
       "   Unnamed: 1 Unnamed: 2 Unnamed: 3 Unnamed: 4 Unnamed: 5 Unnamed: 6  \\\n",
       "12        Jan        Feb        Mar        Apr        May        Jun   \n",
       "13       1607       1317       1289       1040       1086       1540   \n",
       "14       1454       1207       1663       5079       4432       4390   \n",
       "\n",
       "   Unnamed: 7 Unnamed: 8 Unnamed: 9 Unnamed: 10 Unnamed: 11 Unnamed: 12  \n",
       "12        Jul        Aug        Sep         Oct         Nov         Dec  \n",
       "13       1591       1476       1235        1161        1208        1171  \n",
       "14       4400        NaN        NaN         NaN         NaN         NaN  "
      ]
     },
     "execution_count": 4,
     "metadata": {},
     "output_type": "execute_result"
    }
   ],
   "source": [
    "# #removing extra rows and columns\n",
    "mgmt_unemployed = mgmt_unemployed.drop(cons_unemployed.index[[0,1,2,3,4,5,6,7,8,9,10,11]])\n",
    "# Add occupation column\n",
    "# inserting column with static value in data frame \n",
    "mgmt_unemployed.insert(1, \"Occupation\", \"Management\") \n",
    "mgmt_unemployed"
   ]
  },
  {
   "cell_type": "code",
   "execution_count": 5,
   "metadata": {},
   "outputs": [],
   "source": [
    "# #removing extra rows and columns\n",
    "cons_unemployed = cons_unemployed.drop(cons_unemployed.index[[0,1,2,3,4,5,6,7,8,9,10,11,12]])\n",
    "# Add occupation column\n",
    "# inserting column with static value in data frame \n",
    "cons_unemployed.insert(1, \"Occupation\", \"Construction\")"
   ]
  },
  {
   "cell_type": "code",
   "execution_count": 6,
   "metadata": {},
   "outputs": [
    {
     "data": {
      "text/html": [
       "<div>\n",
       "<style scoped>\n",
       "    .dataframe tbody tr th:only-of-type {\n",
       "        vertical-align: middle;\n",
       "    }\n",
       "\n",
       "    .dataframe tbody tr th {\n",
       "        vertical-align: top;\n",
       "    }\n",
       "\n",
       "    .dataframe thead th {\n",
       "        text-align: right;\n",
       "    }\n",
       "</style>\n",
       "<table border=\"1\" class=\"dataframe\">\n",
       "  <thead>\n",
       "    <tr style=\"text-align: right;\">\n",
       "      <th></th>\n",
       "      <th>Labor Force Statistics from the Current Population Survey</th>\n",
       "      <th>Occupation</th>\n",
       "      <th>Unnamed: 1</th>\n",
       "      <th>Unnamed: 2</th>\n",
       "      <th>Unnamed: 3</th>\n",
       "      <th>Unnamed: 4</th>\n",
       "      <th>Unnamed: 5</th>\n",
       "      <th>Unnamed: 6</th>\n",
       "      <th>Unnamed: 7</th>\n",
       "      <th>Unnamed: 8</th>\n",
       "      <th>Unnamed: 9</th>\n",
       "      <th>Unnamed: 10</th>\n",
       "      <th>Unnamed: 11</th>\n",
       "      <th>Unnamed: 12</th>\n",
       "    </tr>\n",
       "  </thead>\n",
       "  <tbody>\n",
       "    <tr>\n",
       "      <th>13</th>\n",
       "      <td>2019</td>\n",
       "      <td>Construction</td>\n",
       "      <td>689</td>\n",
       "      <td>598</td>\n",
       "      <td>503</td>\n",
       "      <td>453</td>\n",
       "      <td>314</td>\n",
       "      <td>364</td>\n",
       "      <td>406</td>\n",
       "      <td>398</td>\n",
       "      <td>314</td>\n",
       "      <td>402</td>\n",
       "      <td>437</td>\n",
       "      <td>547</td>\n",
       "    </tr>\n",
       "    <tr>\n",
       "      <th>14</th>\n",
       "      <td>2020</td>\n",
       "      <td>Construction</td>\n",
       "      <td>590</td>\n",
       "      <td>604</td>\n",
       "      <td>727</td>\n",
       "      <td>1529</td>\n",
       "      <td>1232</td>\n",
       "      <td>961</td>\n",
       "      <td>876</td>\n",
       "      <td>NaN</td>\n",
       "      <td>NaN</td>\n",
       "      <td>NaN</td>\n",
       "      <td>NaN</td>\n",
       "      <td>NaN</td>\n",
       "    </tr>\n",
       "  </tbody>\n",
       "</table>\n",
       "</div>"
      ],
      "text/plain": [
       "   Labor Force Statistics from the Current Population Survey    Occupation  \\\n",
       "13                                               2019         Construction   \n",
       "14                                               2020         Construction   \n",
       "\n",
       "   Unnamed: 1 Unnamed: 2 Unnamed: 3 Unnamed: 4 Unnamed: 5 Unnamed: 6  \\\n",
       "13        689        598        503        453        314        364   \n",
       "14        590        604        727       1529       1232        961   \n",
       "\n",
       "   Unnamed: 7 Unnamed: 8 Unnamed: 9 Unnamed: 10 Unnamed: 11 Unnamed: 12  \n",
       "13        406        398        314         402         437         547  \n",
       "14        876        NaN        NaN         NaN         NaN         NaN  "
      ]
     },
     "execution_count": 6,
     "metadata": {},
     "output_type": "execute_result"
    }
   ],
   "source": [
    "cons_unemployed"
   ]
  },
  {
   "cell_type": "code",
   "execution_count": 16,
   "metadata": {},
   "outputs": [],
   "source": [
    "#cons_unemployed_si = cons_unemployed.set_index(\"Labor Force Statistics from the Current Population Survey\")\n",
    "#cons_unemployed_tp.reset_index(inplace = True)\n",
    "cons_unemployed_tp = cons_unemployed.transpose()\n",
    "cons_unemployed_tp.reset_index(inplace=True)\n",
    "cons_unemployed_tp.columns = [\"Months\", \"2019\", \"2020\"]"
   ]
  },
  {
   "cell_type": "code",
   "execution_count": 27,
   "metadata": {},
   "outputs": [
    {
     "data": {
      "text/html": [
       "<div>\n",
       "<style scoped>\n",
       "    .dataframe tbody tr th:only-of-type {\n",
       "        vertical-align: middle;\n",
       "    }\n",
       "\n",
       "    .dataframe tbody tr th {\n",
       "        vertical-align: top;\n",
       "    }\n",
       "\n",
       "    .dataframe thead th {\n",
       "        text-align: right;\n",
       "    }\n",
       "</style>\n",
       "<table border=\"1\" class=\"dataframe\">\n",
       "  <thead>\n",
       "    <tr style=\"text-align: right;\">\n",
       "      <th></th>\n",
       "      <th>Months</th>\n",
       "      <th>2019</th>\n",
       "      <th>2020</th>\n",
       "    </tr>\n",
       "  </thead>\n",
       "  <tbody>\n",
       "    <tr>\n",
       "      <th>4</th>\n",
       "      <td>Unnamed: 3</td>\n",
       "      <td>503</td>\n",
       "      <td>727</td>\n",
       "    </tr>\n",
       "    <tr>\n",
       "      <th>5</th>\n",
       "      <td>Unnamed: 4</td>\n",
       "      <td>453</td>\n",
       "      <td>1529</td>\n",
       "    </tr>\n",
       "    <tr>\n",
       "      <th>6</th>\n",
       "      <td>Unnamed: 5</td>\n",
       "      <td>314</td>\n",
       "      <td>1232</td>\n",
       "    </tr>\n",
       "    <tr>\n",
       "      <th>7</th>\n",
       "      <td>Unnamed: 6</td>\n",
       "      <td>364</td>\n",
       "      <td>961</td>\n",
       "    </tr>\n",
       "    <tr>\n",
       "      <th>8</th>\n",
       "      <td>Unnamed: 7</td>\n",
       "      <td>406</td>\n",
       "      <td>876</td>\n",
       "    </tr>\n",
       "    <tr>\n",
       "      <th>9</th>\n",
       "      <td>Unnamed: 8</td>\n",
       "      <td>398</td>\n",
       "      <td>NaN</td>\n",
       "    </tr>\n",
       "    <tr>\n",
       "      <th>10</th>\n",
       "      <td>Unnamed: 9</td>\n",
       "      <td>314</td>\n",
       "      <td>NaN</td>\n",
       "    </tr>\n",
       "    <tr>\n",
       "      <th>11</th>\n",
       "      <td>Unnamed: 10</td>\n",
       "      <td>402</td>\n",
       "      <td>NaN</td>\n",
       "    </tr>\n",
       "    <tr>\n",
       "      <th>12</th>\n",
       "      <td>Unnamed: 11</td>\n",
       "      <td>437</td>\n",
       "      <td>NaN</td>\n",
       "    </tr>\n",
       "    <tr>\n",
       "      <th>13</th>\n",
       "      <td>Unnamed: 12</td>\n",
       "      <td>547</td>\n",
       "      <td>NaN</td>\n",
       "    </tr>\n",
       "  </tbody>\n",
       "</table>\n",
       "</div>"
      ],
      "text/plain": [
       "         Months  2019  2020\n",
       "4    Unnamed: 3   503   727\n",
       "5    Unnamed: 4   453  1529\n",
       "6    Unnamed: 5   314  1232\n",
       "7    Unnamed: 6   364   961\n",
       "8    Unnamed: 7   406   876\n",
       "9    Unnamed: 8   398   NaN\n",
       "10   Unnamed: 9   314   NaN\n",
       "11  Unnamed: 10   402   NaN\n",
       "12  Unnamed: 11   437   NaN\n",
       "13  Unnamed: 12   547   NaN"
      ]
     },
     "execution_count": 27,
     "metadata": {},
     "output_type": "execute_result"
    }
   ],
   "source": [
    "#cons_unemployed_tp[\"2019\"]= pd.to_numeric(cons_unemployed_tp[\"2019\"])\n",
    "cons_unemployed_tp = cons_unemployed_tp.drop(cons_unemployed_tp.index[[0,1]])\n",
    "cons_unemployed_tp[\"2019\"]= pd.to_numeric(cons_unemployed_tp[\"2019\"])\n",
    "cons_unemployed_tp"
   ]
  },
  {
   "cell_type": "code",
   "execution_count": 28,
   "metadata": {},
   "outputs": [
    {
     "data": {
      "image/png": "[encoded data removed]",
      "text/plain": [
       "<Figure size 432x288 with 1 Axes>"
      ]
     },
     "metadata": {
      "needs_background": "light"
     },
     "output_type": "display_data"
    }
   ],
   "source": [
    "#Plot chart for Construction unemployment in 2019\n",
    "cons_unemployed_tp.plot(kind = \"bar\", x = \"Months\", y = \"2019\")\n",
    "\n",
    "plt.show()"
   ]
  },
  {
   "cell_type": "code",
   "execution_count": null,
   "metadata": {},
   "outputs": [],
   "source": [
    "#Plot chart for Construction unemployment in 2019\n",
    "cons_unemployed_tp.plot(kind = \"bar\", x = \"13\", y = \"\")\n",
    "\n",
    "plt.show()"
   ]
  },
  {
   "cell_type": "code",
   "execution_count": null,
   "metadata": {},
   "outputs": [],
   "source": [
    "#Plot chart for Construction unemployment in 2020"
   ]
  },
  {
   "cell_type": "code",
   "execution_count": null,
   "metadata": {},
   "outputs": [],
   "source": []
  },
  {
   "cell_type": "code",
   "execution_count": null,
   "metadata": {},
   "outputs": [],
   "source": [
    "# #removing extra rows and columns\n",
    "farm_unemployed = farm_unemployed.drop(farm_unemployed.index[[0,1,2,3,4,5,6,7,8,9,10,11,12]])\n",
    "# Add occupation column\n",
    "# inserting column with static value in data frame \n",
    "farm_unemployed.insert(1, \"Occupation\", \"Farming\") "
   ]
  },
  {
   "cell_type": "code",
   "execution_count": null,
   "metadata": {},
   "outputs": [],
   "source": [
    "# #removing extra rows and columns\n",
    "inst_unemployed = inst_unemployed.drop(inst_unemployed.index[[0,1,2,3,4,5,6,7,8,9,10,11,12]])\n",
    "# Add occupation column\n",
    "# inserting column with static value in data frame \n",
    "inst_unemployed.insert(1, \"Occupation\", \"Installation\") \n",
    "# inst_unemployed"
   ]
  },
  {
   "cell_type": "code",
   "execution_count": null,
   "metadata": {},
   "outputs": [],
   "source": [
    "# #removing extra rows and columns\n",
    "fina_unemployed = fina_unemployed.drop(fina_unemployed.index[[0,1,2,3,4,5,6,7,8,9,10,11,12]])\n",
    "# Add occupation column\n",
    "# inserting column with static value in data frame \n",
    "fina_unemployed.insert(1, \"Occupation\", \"Finance\") \n",
    "# fina_unemployed"
   ]
  },
  {
   "cell_type": "code",
   "execution_count": null,
   "metadata": {},
   "outputs": [],
   "source": [
    "# #removing extra rows and columns\n",
    "offi_unemployed = offi_unemployed.drop(offi_unemployed.index[[0,1,2,3,4,5,6,7,8,9,10,11,12]])\n",
    "# Add occupation column\n",
    "# inserting column with static value in data frame \n",
    "offi_unemployed.insert(1, \"Occupation\", \"Administration\") \n",
    "# offi_unemployed"
   ]
  },
  {
   "cell_type": "code",
   "execution_count": null,
   "metadata": {},
   "outputs": [],
   "source": [
    "# #removing extra rows and columns\n",
    "prod_unemployed = prod_unemployed.drop(prod_unemployed.index[[0,1,2,3,4,5,6,7,8,9,10,11,12]])\n",
    "# Add occupation column\n",
    "# inserting column with static value in data frame \n",
    "prod_unemployed.insert(1, \"Occupation\", \"Production\") \n",
    "# prod_unemployed"
   ]
  },
  {
   "cell_type": "code",
   "execution_count": null,
   "metadata": {},
   "outputs": [],
   "source": [
    "# #removing extra rows and columns\n",
    "prof_unemployed = prof_unemployed.drop(prof_unemployed.index[[0,1,2,3,4,5,6,7,8,9,10,11,12]])\n",
    "# Add occupation column\n",
    "# inserting column with static value in data frame \n",
    "prof_unemployed.insert(1, \"Occupation\", \"Professional\") \n",
    "# prof_unemployed"
   ]
  },
  {
   "cell_type": "code",
   "execution_count": null,
   "metadata": {},
   "outputs": [],
   "source": [
    "# #removing extra rows and columns\n",
    "sale_unemployed = sale_unemployed.drop(sale_unemployed.index[[0,1,2,3,4,5,6,7,8,9,10,11,12]])\n",
    "# Add occupation column\n",
    "# inserting column with static value in data frame \n",
    "sale_unemployed.insert(1, \"Occupation\", \"Sales\") \n",
    "# sale_unemployed"
   ]
  },
  {
   "cell_type": "code",
   "execution_count": null,
   "metadata": {},
   "outputs": [],
   "source": [
    "# #removing extra rows and columns\n",
    "tran_unemployed = tran_unemployed.drop(tran_unemployed.index[[0,1,2,3,4,5,6,7,8,9,10,11,12]])\n",
    "# Add occupation column\n",
    "# inserting column with static value in data frame \n",
    "tran_unemployed.insert(1, \"Occupation\", \"Transportation\") \n",
    "# tran_unemployed"
   ]
  },
  {
   "cell_type": "code",
   "execution_count": null,
   "metadata": {},
   "outputs": [],
   "source": [
    "# # add row at index 13:14 from dataframe cons_unemployed to dataframe mgmt_unemployed\n",
    "# combined_unemployed = mgmt_unemployed.append(cons_unemployed.loc[13:14], ignore_index=True)\n",
    "# combined_unemployed\n"
   ]
  },
  {
   "cell_type": "code",
   "execution_count": null,
   "metadata": {},
   "outputs": [],
   "source": [
    "combined_unemployed = mgmt_unemployed.append([cons_unemployed,farm_unemployed,inst_unemployed,fina_unemployed,offi_unemployed,prod_unemployed,prof_unemployed,sale_unemployed,tran_unemployed]) "
   ]
  },
  {
   "cell_type": "code",
   "execution_count": null,
   "metadata": {},
   "outputs": [],
   "source": [
    "combined_unemployed.head(10)"
   ]
  },
  {
   "cell_type": "code",
   "execution_count": null,
   "metadata": {},
   "outputs": [],
   "source": [
    "#reset index\n",
    "combined_unemployed = combined_unemployed.reset_index(drop=True)\n",
    "combined_unemployed.head()"
   ]
  },
  {
   "cell_type": "code",
   "execution_count": null,
   "metadata": {},
   "outputs": [],
   "source": [
    "# Adding the correct header\n",
    "headers = combined_unemployed.iloc[0]\n",
    "combined_unemployed = combined_unemployed[1:] \n"
   ]
  },
  {
   "cell_type": "code",
   "execution_count": null,
   "metadata": {},
   "outputs": [],
   "source": [
    "combined_unemployed.columns = headers\n",
    "combined_unemployed.head()"
   ]
  },
  {
   "cell_type": "code",
   "execution_count": null,
   "metadata": {},
   "outputs": [],
   "source": [
    "combined_unemployed.rename(columns = {'Management':'Occupation'}, inplace = True) "
   ]
  },
  {
   "cell_type": "code",
   "execution_count": null,
   "metadata": {},
   "outputs": [],
   "source": [
    "combined_unemployed.head()"
   ]
  },
  {
   "cell_type": "code",
   "execution_count": null,
   "metadata": {},
   "outputs": [],
   "source": []
  }
 ],
 "metadata": {
  "kernelspec": {
   "display_name": "Python 3",
   "language": "python",
   "name": "python3"
  },
  "language_info": {
   "codemirror_mode": {
    "name": "ipython",
    "version": 3
   },
   "file_extension": ".py",
   "mimetype": "text/x-python",
   "name": "python",
   "nbconvert_exporter": "python",
   "pygments_lexer": "ipython3",
   "version": "3.6.10"
  }
 },
 "nbformat": 4,
 "nbformat_minor": 4
}
